{
 "cells": [
  {
   "cell_type": "code",
   "execution_count": 2,
   "source": [
    "import numpy as np\r\n",
    "import pandas as pd"
   ],
   "outputs": [],
   "metadata": {}
  },
  {
   "cell_type": "code",
   "execution_count": null,
   "source": [
    "def damage_formula_one(attack: int, defense: int):\r\n",
    "    return attack / defense * int(attack / defense >= 0)\r\n",
    "\r\n",
    "def damage_formula_two(attack, defense):\r\n",
    "    return (attack**2) / defense\r\n",
    "\r\n",
    "def damage_formula_three(attack, defense):\r\n",
    "    return (attack - attack / defense) ** 2 / defense\r\n",
    "\r\n",
    "def damage_formula_four(attack, defense):\r\n",
    "    return attack * (1 - (1 / defense))\r\n",
    "\r\n",
    "def damage_formula_five(attack, defense):\r\n",
    "    return attack * (attack / (attack + defense))"
   ],
   "outputs": [],
   "metadata": {}
  },
  {
   "cell_type": "code",
   "execution_count": null,
   "source": [
    "def get_values(count: int = 50, defense=10, formula=damage_formula_one):\r\n",
    "    df = pd.DataFrame(columns = [\"attack\", \"defense\"])\r\n",
    "    nums = [i for i in range(1, count + 1)]\r\n",
    "    df[\"attack\"] = nums\r\n",
    "    df[\"defense\"] = defense\r\n",
    "\r\n",
    "    # Attack -> defense\r\n",
    "    result = []\r\n",
    "    for attack, defense in df[[\"attack\", \"defense\"]].values:\r\n",
    "        result.append(formula(attack, defense))\r\n",
    "    df[\"result\"] = result\r\n",
    "    \r\n",
    "    return df\r\n"
   ],
   "outputs": [],
   "metadata": {}
  },
  {
   "cell_type": "code",
   "execution_count": null,
   "source": [
    "fig, ax = plt.subplots(nrows = 2, ncols = 4, figsize = (24, 10))\r\n",
    "\r\n",
    "DEFENSE_VALUES = [1, 25, 50, 75, 100]\r\n",
    "\r\n",
    "ax[0][0].set_xlabel(\"Attack\")\r\n",
    "ax[0][0].set_ylabel(\"Damage\")\r\n",
    "ax[0][0].set_title(\"attack / (attack + defense)\")\r\n",
    "for val in DEFENSE_VALUES:\r\n",
    "    df = get_values(defense=val, formula=damage_formula_one)\r\n",
    "    ax[0][0].plot(df[\"attack\"], df[\"result\"]);\r\n",
    "\r\n",
    "\r\n",
    "ax[0][1].set_xlabel(\"Attack\")\r\n",
    "ax[0][1].set_ylabel(\"Damage\")\r\n",
    "ax[0][1].set_title(\"attack^2 / defense\")\r\n",
    "for val in DEFENSE_VALUES:\r\n",
    "    df2 = get_values(defense = val, formula=damage_formula_two)\r\n",
    "    ax[0][1].plot(df2[\"attack\"], df2[\"result\"]);\r\n",
    "\r\n",
    "ax[0][2].set_xlabel(\"Attack\")\r\n",
    "ax[0][2].set_ylabel(\"Damage\")\r\n",
    "ax[0][2].set_title(\"(attack - attack / defense) ** 2 / defense\")\r\n",
    "for val in DEFENSE_VALUES:\r\n",
    "    df3 = get_values(defense = val, formula=damage_formula_three)\r\n",
    "    ax[0][2].plot(df3[\"attack\"], df3[\"result\"]);\r\n",
    "\r\n",
    "ax[0][3].set_xlabel(\"Attack\")\r\n",
    "ax[0][3].set_ylabel(\"Damage\")\r\n",
    "ax[0][3].set_title(\"attack * (1 - (1 / defense))\")\r\n",
    "for val in DEFENSE_VALUES:\r\n",
    "    df4 = get_values(defense = val, formula=damage_formula_four)\r\n",
    "    ax[0][3].plot(df4[\"attack\"], df4[\"result\"]);\r\n",
    "\r\n",
    "ax[1][0].set_xlabel(\"Attack\")\r\n",
    "ax[1][0].set_ylabel(\"Damage\")\r\n",
    "ax[1][0].set_title(\"attack * (attack / (attack + defense))\")\r\n",
    "for val in DEFENSE_VALUES:\r\n",
    "    df5 = get_values(defense = val, formula=damage_formula_five)\r\n",
    "    ax[1][0].plot(df5[\"attack\"], df5[\"result\"]);\r\n",
    "\r\n",
    "fig.legend(labels=DEFENSE_VALUES);"
   ],
   "outputs": [],
   "metadata": {}
  },
  {
   "cell_type": "code",
   "execution_count": 4,
   "source": [
    "jimmy = archetypes.Quantum(\"Jimmy\")\r\n",
    "jeremy = archetypes.Quantum(\"Jeremy\")\r\n",
    "jimmy.data.current_health"
   ],
   "outputs": [
    {
     "output_type": "execute_result",
     "data": {
      "text/plain": [
       "100"
      ]
     },
     "metadata": {},
     "execution_count": 4
    }
   ],
   "metadata": {}
  },
  {
   "cell_type": "code",
   "execution_count": 6,
   "source": [
    "jimmy.data.abilities.Collapse(jeremy)"
   ],
   "outputs": [
    {
     "output_type": "stream",
     "name": "stdout",
     "text": [
      "DamageType.MAGIC\n",
      "Jeremy dealt 29 damage to Jeremy!\n"
     ]
    }
   ],
   "metadata": {}
  },
  {
   "cell_type": "code",
   "execution_count": 18,
   "source": [
    "jeremy"
   ],
   "outputs": [
    {
     "output_type": "stream",
     "name": "stdout",
     "text": [
      "Jeremy dealt 71 damage to Jimmy!\n"
     ]
    },
    {
     "output_type": "execute_result",
     "data": {
      "text/plain": [
       "0"
      ]
     },
     "metadata": {},
     "execution_count": 18
    }
   ],
   "metadata": {}
  },
  {
   "cell_type": "code",
   "execution_count": null,
   "source": [
    "import numpy\r\n",
    "import math\r\n",
    "def get_num_trials(threshold: float, chance: float):\r\n",
    "    \"x = log_chance(-threshold + 1)\"\r\n",
    "    return round(math.log((-1 * threshold + 1), 1 - chance))"
   ],
   "outputs": [],
   "metadata": {}
  },
  {
   "cell_type": "code",
   "execution_count": null,
   "source": [
    "get_num_trials(.635, .01) * .0601"
   ],
   "outputs": [],
   "metadata": {}
  }
 ],
 "metadata": {
  "orig_nbformat": 4,
  "language_info": {
   "name": "python",
   "version": "3.8.8",
   "mimetype": "text/x-python",
   "codemirror_mode": {
    "name": "ipython",
    "version": 3
   },
   "pygments_lexer": "ipython3",
   "nbconvert_exporter": "python",
   "file_extension": ".py"
  },
  "kernelspec": {
   "name": "python3",
   "display_name": "Python 3.8.8 64-bit ('WebRPG-nE2Lqzue': pipenv)"
  },
  "interpreter": {
   "hash": "0f53c097d2ed8ed8af9ce90f2930622b3f39de50b55d8cabcb756731e0ef91dc"
  }
 },
 "nbformat": 4,
 "nbformat_minor": 2
}