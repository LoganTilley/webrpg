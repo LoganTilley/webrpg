{
 "cells": [
  {
   "cell_type": "code",
   "execution_count": 31,
   "source": [
    "import engine.name_provider as namer\r\n",
    "from engine.elements import Element\r\n",
    "for _ in range(10):\r\n",
    "    print(namer.create_name(namer.ARMOR_FORMATS))\r\n",
    "\r\n",
    "print(type(Element.ACID))"
   ],
   "outputs": [
    {
     "output_type": "stream",
     "name": "stdout",
     "text": [
      "odd nightgown\n",
      "pleasurable tucking\n",
      "surplice\n",
      "stigmatising knee\n",
      "flounce of allocation\n",
      "neck\n",
      "disorientated neck\n",
      "hand of circonscription\n",
      "quashing sheath\n",
      "squandering neck\n",
      "<enum 'Element'>\n"
     ]
    }
   ],
   "metadata": {}
  }
 ],
 "metadata": {
  "orig_nbformat": 4,
  "language_info": {
   "name": "python",
   "version": "3.8.8",
   "mimetype": "text/x-python",
   "codemirror_mode": {
    "name": "ipython",
    "version": 3
   },
   "pygments_lexer": "ipython3",
   "nbconvert_exporter": "python",
   "file_extension": ".py"
  },
  "kernelspec": {
   "name": "python3",
   "display_name": "Python 3.8.8 64-bit ('WebRPG-nE2Lqzue': pipenv)"
  },
  "interpreter": {
   "hash": "0f53c097d2ed8ed8af9ce90f2930622b3f39de50b55d8cabcb756731e0ef91dc"
  }
 },
 "nbformat": 4,
 "nbformat_minor": 2
}