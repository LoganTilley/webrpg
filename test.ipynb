{
 "cells": [
  {
   "cell_type": "code",
   "execution_count": 1,
   "source": [
    "import engine.name_provider as namer\r\n",
    "from engine.elements import Element\r\n",
    "import engine.conlang as conlang\r\n",
    "from random import randint"
   ],
   "outputs": [],
   "metadata": {}
  },
  {
   "cell_type": "code",
   "execution_count": 9,
   "source": [
    "conlang.create_conlang_word(3, rand=False)"
   ],
   "outputs": [
    {
     "output_type": "execute_result",
     "data": {
      "text/plain": [
       "'akzish'"
      ]
     },
     "metadata": {},
     "execution_count": 9
    }
   ],
   "metadata": {}
  }
 ],
 "metadata": {
  "orig_nbformat": 4,
  "language_info": {
   "name": "python",
   "version": "3.8.8",
   "mimetype": "text/x-python",
   "codemirror_mode": {
    "name": "ipython",
    "version": 3
   },
   "pygments_lexer": "ipython3",
   "nbconvert_exporter": "python",
   "file_extension": ".py"
  },
  "kernelspec": {
   "name": "python3",
   "display_name": "Python 3.8.8 64-bit ('WebRPG-nE2Lqzue': pipenv)"
  },
  "interpreter": {
   "hash": "0f53c097d2ed8ed8af9ce90f2930622b3f39de50b55d8cabcb756731e0ef91dc"
  }
 },
 "nbformat": 4,
 "nbformat_minor": 2
}