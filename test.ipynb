{
 "cells": [
  {
   "cell_type": "code",
   "execution_count": 1,
   "source": [
    "import engine.name_provider as namer\r\n",
    "from engine.elements import Element\r\n",
    "from engine.conlang import *\r\n",
    "from random import randint"
   ],
   "outputs": [],
   "metadata": {}
  },
  {
   "cell_type": "code",
   "execution_count": 2,
   "source": [
    "\"\"\"\r\n",
    "rarerrlen: [START V START V PRE S POST V START]\r\n",
    "urrleltreish: [V PRE S POST V PRE S POST V START]\r\n",
    "\"\"\"\r\n",
    "word = [c for c in \"rarerrlen\"]\r\n",
    "def create_from_form(form):\r\n",
    "    word = []\r\n",
    "    for i, syl in enumerate(form):\r\n",
    "        candidate = choice(LANG_DICT[syl])\r\n",
    "        # AI may only appear at end of word\r\n",
    "        if i < len(form):\r\n",
    "            while candidate == 'ai':\r\n",
    "                candidate = choice(LANG_DICT[syl])\r\n",
    "        # must be at end of word rules\r\n",
    "        if i == len(form) - 1:\r\n",
    "        # S and Z must be SH and ZH\r\n",
    "            if candidate == 's':\r\n",
    "                candidate = 'sh'\r\n",
    "            if candidate == 'z':\r\n",
    "                candidate = 'zh'\r\n",
    "        # E becomes EI\r\n",
    "            if candidate == 'e':\r\n",
    "                candidate = 'ei'\r\n",
    "        # y can't exist\r\n",
    "            while candidate == 'y':\r\n",
    "                candidate = choice(LANG_DICT[syl])\r\n",
    "        # No successive dupes\r\n",
    "        if word:\r\n",
    "            while word[-1] == candidate:\r\n",
    "                candidate = choice(LANG_DICT[syl])\r\n",
    "        word.append(candidate)\r\n",
    "        for i in range(len(word) - 1):\r\n",
    "            # sibilants may not be successive, must be followed by plosive\r\n",
    "            if word[i + 1] in SIBILANTS and word[i] in SIBILANTS:\r\n",
    "                word[i + 1] = choice(LANG_DICT[\"PLOS\"])\r\n",
    "    return word\r\n",
    "wrong = []\r\n",
    "for _ in range(1):\r\n",
    "    word = create_from_form([\"PRE\", \"S\", \"POST\"])\r\n",
    "    for i in range(len(word) - 1):\r\n",
    "        if word[i] == word[i + 1]:\r\n",
    "            wrong.append(word)\r\n",
    "wrong"
   ],
   "outputs": [
    {
     "output_type": "execute_result",
     "data": {
      "text/plain": [
       "[]"
      ]
     },
     "metadata": {},
     "execution_count": 2
    }
   ],
   "metadata": {}
  },
  {
   "cell_type": "code",
   "execution_count": 10,
   "source": [
    "for _ in range(20):\r\n",
    "    print(create_conlang_word(6))"
   ],
   "outputs": [
    {
     "output_type": "stream",
     "name": "stdout",
     "text": [
      "zhorl\n",
      "olvel\n",
      "wazun\n",
      "ekuzh\n",
      "ishar\n",
      "eitzuv\n",
      "vokil\n",
      "nilnei\n",
      "ishror\n",
      "neivza\n",
      "yoln\n",
      "eirt\n",
      "irzei\n",
      "wokza\n",
      "isik\n",
      "yeilnor\n",
      "erniri\n",
      "teirsheizh\n",
      "arnewu\n",
      "eilvzut\n"
     ]
    }
   ],
   "metadata": {}
  }
 ],
 "metadata": {
  "orig_nbformat": 4,
  "language_info": {
   "name": "python",
   "version": "3.8.8",
   "mimetype": "text/x-python",
   "codemirror_mode": {
    "name": "ipython",
    "version": 3
   },
   "pygments_lexer": "ipython3",
   "nbconvert_exporter": "python",
   "file_extension": ".py"
  },
  "kernelspec": {
   "name": "python3",
   "display_name": "Python 3.8.8 64-bit ('WebRPG-nE2Lqzue': pipenv)"
  },
  "interpreter": {
   "hash": "0f53c097d2ed8ed8af9ce90f2930622b3f39de50b55d8cabcb756731e0ef91dc"
  }
 },
 "nbformat": 4,
 "nbformat_minor": 2
}